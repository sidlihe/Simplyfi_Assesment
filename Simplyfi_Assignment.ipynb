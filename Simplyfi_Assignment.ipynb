{
 "cells": [
  {
   "cell_type": "code",
   "execution_count": 4,
   "id": "8cddd6e7",
   "metadata": {},
   "outputs": [
    {
     "name": "stdout",
     "output_type": "stream",
     "text": [
      "Enter an integer: 56879855\n",
      "The price in words are:  ['Five', 'Crore', 'Sixty', 'Eight', 'Lakh', 'Seventy', 'Nine', 'Thousand', 'Eight Hundred', 'Fifty', 'Five']\n",
      "Indian Currency Notation: 56,879,855\n"
     ]
    }
   ],
   "source": [
    "def convert_to_indian_currency(n):\n",
    "    if n == 0:\n",
    "        return 'Zero'\n",
    "\n",
    "    words = []\n",
    "\n",
    "    def convert_less_than_1000(num):\n",
    "        if num >= 100:\n",
    "            words.append(digits_map[num // 100] + ' Hundred')\n",
    "            num %= 100\n",
    "\n",
    "        if num >= 20:\n",
    "            words.append(tens_map[num // 10])\n",
    "            num %= 10\n",
    "        elif num >= 10:\n",
    "            return words.append(teens_map[num])\n",
    "\n",
    "        if num > 0:\n",
    "            words.append(digits_map[num])\n",
    "\n",
    "    digits_map = {0: '', 1: 'One', 2: 'Two', 3: 'Three', 4: 'Four', 5: 'Five', 6: 'Six', 7: 'Seven', 8: 'Eight', 9: 'Nine'}\n",
    "    teens_map = {10: 'Ten', 11: 'Eleven', 12: 'Twelve', 13: 'Thirteen', 14: 'Fourteen', 15: 'Fifteen', 16: 'Sixteen', 17: 'Seventeen', 18: 'Eighteen', 19: 'Nineteen'}\n",
    "    tens_map = {2: 'Twenty', 3: 'Thirty', 4: 'Forty', 5: 'Fifty', 6: 'Sixty', 7: 'Seventy', 8: 'Eighty', 9: 'Ninety'}\n",
    "\n",
    "    if n >= 10000000:\n",
    "        convert_less_than_1000(n // 10000000)\n",
    "        words.append('Crore')\n",
    "        n %= 10000000\n",
    "\n",
    "    if n >= 100000:\n",
    "        convert_less_than_1000(n // 100000)\n",
    "        words.append('Lakh')\n",
    "        n %= 100000\n",
    "\n",
    "    if n >= 1000:\n",
    "        convert_less_than_1000(n // 1000)\n",
    "        words.append('Thousand')\n",
    "        n %= 1000\n",
    "\n",
    "    if n > 0:\n",
    "        convert_less_than_1000(n)\n",
    "    print(\"The price in words are: \",words)\n",
    "    return ' '.join(words)\n",
    "\n",
    "if __name__ == \"__main__\":\n",
    "    num = int(input(\"Enter an integer: \"))\n",
    "    currency_notation = convert_to_indian_currency(num)\n",
    "    print(\"Indian Currency Notation:\", \"{:,}\".format(num))"
   ]
  },
  {
   "cell_type": "code",
   "execution_count": 1,
   "id": "a8538f31",
   "metadata": {},
   "outputs": [
    {
     "name": "stdout",
     "output_type": "stream",
     "text": [
      "Enter the number of test cases: 3\n",
      "This is the 1 no. test case\n",
      "Enter the total number of players and the height of Ali and Gi-Hun: 4 10\n",
      "Enter the heights of the players: 13 6 16 4\n",
      "Number of players visible to Gi-Hun: 2\n",
      "This is the 2 no. test case\n",
      "Enter the total number of players and the height of Ali and Gi-Hun: 1 8\n",
      "Enter the heights of the players: 9\n",
      "Number of players visible to Gi-Hun: 1\n",
      "This is the 3 no. test case\n",
      "Enter the total number of players and the height of Ali and Gi-Hun: 3 8\n",
      "Enter the heights of the players: 5 6 7\n",
      "Number of players visible to Gi-Hun: 0\n"
     ]
    }
   ],
   "source": [
    "test_cases = int(input(\"Enter the number of test cases: \"))\n",
    "\n",
    "# check for each test case\n",
    "for case in range(test_cases):  \n",
    "    print(f\"This is the {case + 1 } no. test case\")\n",
    "    count_visible = 0  # Initialize a counter for the number of visible players\n",
    "    total_players, height_ali_gihun = map(int, input(\"Enter the total number of players and the height of Ali and Gi-Hun: \").split())\n",
    "\n",
    "    # Get the heights of the players between Gi-Hun and Ali\n",
    "    player_heights = list(map(int, input(\"Enter the heights of the players: \").split()))\n",
    "\n",
    "    # Iterate through the heights of the players\n",
    "    for height in player_heights:  \n",
    "        # Check if the height of the player is greater than the height of Ali and Gi-Hun\n",
    "        if height > height_ali_gihun:\n",
    "            count_visible += 1  # Increment the counter if the player is taller than Ali and Gi-Hun\n",
    "    \n",
    "    # Print the number of players visible to Gi-Hun\n",
    "    print(\"Number of players visible to Gi-Hun:\", count_visible)"
   ]
  },
  {
   "cell_type": "markdown",
   "id": "95181d71",
   "metadata": {},
   "source": [
    "# Explanation"
   ]
  },
  {
   "cell_type": "raw",
   "id": "fbcc1ded",
   "metadata": {},
   "source": [
    "As per note i took the Ali and Gi-hun height are same\n",
    "1)Test Case 1st:\n",
    "        In the first test case Ali and Gi-hun have same height is 10\n",
    "        For Ali to be visible to Gi-Hun, the second person (with height 13) and the fourth person (with\n",
    "        height 16) need to get shot. Hence, the minimum number of players who need to get shot is 2\n",
    "        so i take 4 players with height as per so all players need to hide behind ali so 1st is ali and last is Gi-hun \n",
    "        height of all player consist ali and Gi-hun\n",
    "        [10,13,6,16,4,10]....second player height is 13 and fourth is 16\n",
    "        \n",
    " \n",
    "result:Number of players visible to Gi-Hun: 2 (second player and fourth player are visible)"
   ]
  },
  {
   "cell_type": "raw",
   "id": "d9bfba0a",
   "metadata": {},
   "source": [
    "2)Test Case 2nd:\n",
    "        In the second test case Ali and Gi-hun have height 8\n",
    "        For Ali to be visible to Gi-Hun, the first person (with height 9) needs to get shot. Hence, the\n",
    "        minimum number of players who need to get shot is 1\n",
    "        so height of all players are With Ali And Gi-Hun\n",
    "        [8,9,8]\n",
    "        \n",
    "    \n",
    "result:Number of players visible to Gi-Hun: 1"
   ]
  },
  {
   "cell_type": "raw",
   "id": "e356c075",
   "metadata": {},
   "source": [
    "3)Test Case 3rd:\n",
    "        In the third test case Ali and Gi-hun height i take is 8\n",
    "        Nobody needs to get shot because everyone is shorter than Gi-Hun and Ali.\n",
    "        means all players are smaller in height then Ali and Gi-hun\n",
    "        so i take only 3 player in between them\n",
    "        height of all players include Ali and Gi-hun\n",
    "        [8,5,6,7,8]\n",
    "\n",
    "    \n",
    "result:Nobody get shot nobody visible to Gi-hun because condition are there mentioned \n",
    "        in note are Line of sight is a straight line drawn between the topmost point of two objects"
   ]
  },
  {
   "cell_type": "code",
   "execution_count": null,
   "id": "3c7a5240",
   "metadata": {},
   "outputs": [],
   "source": []
  }
 ],
 "metadata": {
  "kernelspec": {
   "display_name": "Python 3 (ipykernel)",
   "language": "python",
   "name": "python3"
  },
  "language_info": {
   "codemirror_mode": {
    "name": "ipython",
    "version": 3
   },
   "file_extension": ".py",
   "mimetype": "text/x-python",
   "name": "python",
   "nbconvert_exporter": "python",
   "pygments_lexer": "ipython3",
   "version": "3.9.7"
  }
 },
 "nbformat": 4,
 "nbformat_minor": 5
}
